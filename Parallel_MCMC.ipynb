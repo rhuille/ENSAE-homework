{
 "cells": [
  {
   "cell_type": "markdown",
   "metadata": {},
   "source": [
    "# Parallel MCMC\n",
    "## Eléments logiciels pour le traitement des données massives"
   ]
  },
  {
   "cell_type": "markdown",
   "metadata": {},
   "source": [
    "Nous avons choisi d'implémenter l'algorithme Independent Metropolis–Hastings (IMH) décrit dans l'article : https://arxiv.org/pdf/1010.1595v3.pdf en utilisant la fonction *Pool* du pkg *multiprocessing*"
   ]
  },
  {
   "cell_type": "code",
   "execution_count": 1,
   "metadata": {
    "collapsed": true
   },
   "outputs": [],
   "source": [
    "import numpy as np\n",
    "import matplotlib.pyplot as plt\n",
    "from multiprocessing import Pool\n",
    "import numpy as np\n",
    "import matplotlib.pyplot as plt\n",
    "from time import time, sleep\n",
    "import random\n",
    "import pandas as pd\n",
    "import itertools\n",
    "import numpy as np\n",
    "from tqdm import tqdm"
   ]
  },
  {
   "cell_type": "code",
   "execution_count": 59,
   "metadata": {},
   "outputs": [],
   "source": [
    "class IMH(object):\n",
    "    \"\"\"\n",
    "    Class IMH\n",
    "    #########\n",
    "    \n",
    "    Implementation of IMH (Independent Metropolis Hasting) algorithm explained in :\n",
    "    << Using parallel computation to improve Independent Metropolis Hasting based estimation >>\n",
    "    Jacob and al. 2011\n",
    "    \n",
    "    Arguments\n",
    "    ---------\n",
    "    - omega (function) : density function of the distribution to simulate\n",
    "    - gen_candidate (function(N) ) : reurn an array of N values gen from the candidate distribution\n",
    "\n",
    "    - x0 (float) : initialisation\n",
    "    - N (int) : length of the markov chain\n",
    "    - njobs (int) : \n",
    "\n",
    "    Methods\n",
    "    -------\n",
    "    - compute_permutation : Return the permuted index 1,2,...,n according to self.permutation method\n",
    "    - fit_simple : implementation of the fundamental version of the IMH algorithm \n",
    "    - fit_block : implementation of the block version of the IMH algorithm \n",
    "    - fit : main method interface\n",
    "    \"\"\"\n",
    "    \n",
    "    def __init__(self, omega, gen_candidate) :\n",
    "        self.omega = np.vectorize(omega)\n",
    "        self.gen_candidate = gen_candidate\n",
    "\n",
    "    def compute_permutation(self, n):\n",
    "\n",
    "        l = list(range(1,n))\n",
    "        if self.permutation == \"same_order\":\n",
    "            return_list = [l]*self.njobs\n",
    "        elif self.permutation == \"random\": \n",
    "            all_perm = list(itertools.permutations(l))\n",
    "            return_list = list(random.sample(all_perm, k=self.njobs))\n",
    "        else:\n",
    "            return_list = l\n",
    "        return(return_list)\n",
    "\n",
    "\n",
    "    def fit_simple(self, i=None, b=0):\n",
    "\n",
    "        n = self.y.shape[0] # either equal to : \n",
    "                            # - self.N (when method ='simple')\n",
    "                            # - self.nblocks (when method ='parallel')\n",
    "        if i == None :\n",
    "            i = list(range(1,n)) # is the identity permutation\n",
    "        \n",
    "        i = [0]+list(i)\n",
    "        # go\n",
    "        current = 0\n",
    "        weight = np.full(fill_value = 0, shape = n)\n",
    "        for candidate in range(1, len(i)):\n",
    "            ratio = min(1, self.omega_y[i[candidate],b]/self.omega_y[i[current],b])\n",
    "            u = np.random.binomial(1,ratio)\n",
    "            current += u*(candidate-current) # current is updated to candidate if u = 1 \n",
    "                                             # and stay current if u = 0\n",
    "\n",
    "            weight[i[current]] += 1 # add current value to the chain\n",
    "        \n",
    "        return weight\n",
    "\n",
    "            \n",
    "    def fit_block(self):\n",
    "        \n",
    "        weight = np.full(fill_value = 0, shape = self.y.shape)\n",
    "        with Pool(self.njobs) as p:\n",
    "            for b in range(self.B):\n",
    "\n",
    "                perm_list = self.compute_permutation(self.njobs)\n",
    "\n",
    "                weight_block = np.array(p.starmap(self.fit_simple, [(i,b) for i in perm_list]))\n",
    "                weight[:,b] = weight_block.sum(axis = 0)\n",
    "\n",
    "                if b < self.B-1 : # init the next block picking randomly in the current block\n",
    "                    self.y[0,b+1] = np.random.choice(self.y[:,b], size=1, p= weight[:,b]/weight[:,b].sum())\n",
    "                    self.omega_y[0,b+1] = self.omega(self.y[0,b+1])\n",
    "        return weight\n",
    "\n",
    "\n",
    "    def fit(self, x0, N, method = 'simple', B = 1, njobs = 1, permutation = 'same_order'):\n",
    "        self.B = B\n",
    "        self.nblocks = int(N/B)\n",
    "        self.njobs = njobs\n",
    "        self.N = N-N%pgcd(self.nblocks,njobs)        \n",
    "        self.permutation = permutation\n",
    "\n",
    "        if method == \"simple\":            \n",
    "            # (1) creation of candidate sample\n",
    "            self.y = np.reshape(self.gen_candidate(self.N-1), newshape=(self.N-1,1))\n",
    "            # (2) add init value\n",
    "            self.y = np.append([[x0]], self.y, axis = 0)\n",
    "            # (3) computation of omega values\n",
    "            self.omega_y = self.omega(self.y)\n",
    "            # (4) computation of weight with IMH algo\n",
    "            self.weights = self.fit_simple()\n",
    "            \n",
    "        elif method == 'parallel':\n",
    "            # (1) creation of candidate sample\n",
    "            self.y = np.array(Pool(njobs).map(self.gen_candidate,[int(self.N/njobs)]*njobs))\n",
    "            # (3) computation of omega values\n",
    "            self.omega_y = np.array(Pool(njobs).map(self.omega, list(self.y)))\n",
    "            \n",
    "            # reshape : this is usefull when nblocks!=njobs\n",
    "            self.y = np.reshape(self.y, newshape=(self.nblocks, self.B))\n",
    "            self.omega_y = np.reshape(self.omega_y,newshape=(self.nblocks, self.B))\n",
    "            # (2) add init value\n",
    "            self.y = np.append(np.full((1,self.B), x0), self.y, axis = 0)\n",
    "            self.omega_y = np.append(np.full((1,self.B), self.omega(x0)), self.omega_y, axis = 0)\n",
    "            \n",
    "            # (4) computation of weight with IMH algo\n",
    "            self.weights = self.fit_block() # computation of weight\n",
    "        \n",
    "        self.weights = np.reshape(self.weights,newshape=self.y.shape)\n",
    "        self.expectation = np.average(self.y, weights= self.weights)\n",
    "        \n",
    "        return self.expectation"
   ]
  },
  {
   "cell_type": "code",
   "execution_count": 60,
   "metadata": {
    "collapsed": true
   },
   "outputs": [],
   "source": [
    "def pgcd(a,b):\n",
    "    if b==0:\n",
    "        return a\n",
    "    else:\n",
    "        return pgcd(b,a%b)"
   ]
  },
  {
   "cell_type": "code",
   "execution_count": 61,
   "metadata": {
    "collapsed": true
   },
   "outputs": [],
   "source": [
    "# Parameters\n",
    "\n",
    "def omega(x):\n",
    "    return((1+x**2)*np.exp(-x**2/2))\n",
    "\n",
    "def gen_candidate(N):\n",
    "    np.random.seed() # for seeding the generator\n",
    "    return np.random.standard_cauchy(size = N)"
   ]
  },
  {
   "cell_type": "code",
   "execution_count": 62,
   "metadata": {},
   "outputs": [],
   "source": [
    "IMH_computer  = IMH(omega, gen_candidate)"
   ]
  },
  {
   "cell_type": "code",
   "execution_count": 63,
   "metadata": {
    "scrolled": false
   },
   "outputs": [
    {
     "data": {
      "text/plain": [
       "0.06344914436340332"
      ]
     },
     "execution_count": 63,
     "metadata": {},
     "output_type": "execute_result"
    }
   ],
   "source": [
    "t = time()\n",
    "IMH_computer.fit(x0 = 10, N = 4000, method='simple')\n",
    "time() - t"
   ]
  },
  {
   "cell_type": "code",
   "execution_count": 64,
   "metadata": {},
   "outputs": [
    {
     "data": {
      "text/plain": [
       "4000"
      ]
     },
     "execution_count": 64,
     "metadata": {},
     "output_type": "execute_result"
    }
   ],
   "source": [
    "IMH_computer.N"
   ]
  },
  {
   "cell_type": "code",
   "execution_count": 80,
   "metadata": {
    "scrolled": true
   },
   "outputs": [
    {
     "data": {
      "text/plain": [
       "0.275432825088501"
      ]
     },
     "execution_count": 80,
     "metadata": {},
     "output_type": "execute_result"
    }
   ],
   "source": [
    "t = time()\n",
    "IMH_computer.fit(x0 = 0, N = 4000, method='parallel', B=10, njobs=4, permutation='random')\n",
    "time() - t"
   ]
  },
  {
   "cell_type": "code",
   "execution_count": null,
   "metadata": {
    "collapsed": true
   },
   "outputs": [],
   "source": []
  },
  {
   "cell_type": "code",
   "execution_count": null,
   "metadata": {
    "collapsed": true
   },
   "outputs": [],
   "source": []
  },
  {
   "cell_type": "code",
   "execution_count": null,
   "metadata": {
    "collapsed": true
   },
   "outputs": [],
   "source": []
  },
  {
   "cell_type": "code",
   "execution_count": null,
   "metadata": {
    "collapsed": true
   },
   "outputs": [],
   "source": [
    "\n",
    "\n",
    "t = time()\n",
    "IMH_computer.fit(x0 = 0, N = 400000, method='parallel', pblocks=40000,njobs=4, permutation='random')\n",
    "time() - t"
   ]
  },
  {
   "cell_type": "code",
   "execution_count": null,
   "metadata": {
    "collapsed": true
   },
   "outputs": [],
   "source": []
  },
  {
   "cell_type": "code",
   "execution_count": null,
   "metadata": {
    "collapsed": true
   },
   "outputs": [],
   "source": []
  },
  {
   "cell_type": "code",
   "execution_count": null,
   "metadata": {
    "collapsed": true
   },
   "outputs": [],
   "source": []
  },
  {
   "cell_type": "code",
   "execution_count": 14,
   "metadata": {},
   "outputs": [
    {
     "name": "stderr",
     "output_type": "stream",
     "text": [
      " 45%|████▌     | 18/40 [00:12<00:15,  1.41it/s]"
     ]
    },
    {
     "ename": "OSError",
     "evalue": "[Errno 24] Too many open files",
     "output_type": "error",
     "traceback": [
      "\u001b[0;31m---------------------------------------------------------------------------\u001b[0m",
      "\u001b[0;31mOSError\u001b[0m                                   Traceback (most recent call last)",
      "\u001b[0;32m<ipython-input-14-c290b80f86e2>\u001b[0m in \u001b[0;36m<module>\u001b[0;34m()\u001b[0m\n\u001b[1;32m      1\u001b[0m \u001b[0ml_parallel\u001b[0m \u001b[0;34m=\u001b[0m\u001b[0;34m[\u001b[0m\u001b[0;34m]\u001b[0m\u001b[0;34m\u001b[0m\u001b[0m\n\u001b[1;32m      2\u001b[0m \u001b[0;32mfor\u001b[0m \u001b[0mi\u001b[0m \u001b[0;32min\u001b[0m \u001b[0mtqdm\u001b[0m\u001b[0;34m(\u001b[0m\u001b[0mrange\u001b[0m\u001b[0;34m(\u001b[0m\u001b[0;36m40\u001b[0m\u001b[0;34m)\u001b[0m\u001b[0;34m)\u001b[0m \u001b[0;34m:\u001b[0m\u001b[0;34m\u001b[0m\u001b[0m\n\u001b[0;32m----> 3\u001b[0;31m     \u001b[0ml_parallel\u001b[0m \u001b[0;34m+=\u001b[0m \u001b[0;34m[\u001b[0m\u001b[0mIMH_computer\u001b[0m\u001b[0;34m.\u001b[0m\u001b[0mfit\u001b[0m\u001b[0;34m(\u001b[0m\u001b[0mx0\u001b[0m \u001b[0;34m=\u001b[0m \u001b[0;36m0\u001b[0m\u001b[0;34m,\u001b[0m \u001b[0mN\u001b[0m \u001b[0;34m=\u001b[0m \u001b[0;36m40\u001b[0m\u001b[0;34m,\u001b[0m \u001b[0mmethod\u001b[0m\u001b[0;34m=\u001b[0m\u001b[0;34m'parallel'\u001b[0m\u001b[0;34m,\u001b[0m \u001b[0mnjobs\u001b[0m\u001b[0;34m=\u001b[0m\u001b[0;36m4\u001b[0m\u001b[0;34m,\u001b[0m \u001b[0mpermutation\u001b[0m\u001b[0;34m=\u001b[0m\u001b[0;34m'random'\u001b[0m\u001b[0;34m)\u001b[0m \u001b[0;34m]\u001b[0m\u001b[0;34m\u001b[0m\u001b[0m\n\u001b[0m",
      "\u001b[0;32m<ipython-input-2-05ac218676d4>\u001b[0m in \u001b[0;36mfit\u001b[0;34m(self, x0, N, method, njobs, permutation)\u001b[0m\n\u001b[1;32m    115\u001b[0m             \u001b[0mself\u001b[0m\u001b[0;34m.\u001b[0m\u001b[0momega_y\u001b[0m\u001b[0;34m[\u001b[0m\u001b[0;36m0\u001b[0m\u001b[0;34m,\u001b[0m\u001b[0;36m0\u001b[0m\u001b[0;34m]\u001b[0m \u001b[0;34m=\u001b[0m \u001b[0mself\u001b[0m\u001b[0;34m.\u001b[0m\u001b[0momega\u001b[0m\u001b[0;34m(\u001b[0m\u001b[0mself\u001b[0m\u001b[0;34m.\u001b[0m\u001b[0my\u001b[0m\u001b[0;34m[\u001b[0m\u001b[0;36m0\u001b[0m\u001b[0;34m,\u001b[0m\u001b[0;36m0\u001b[0m\u001b[0;34m]\u001b[0m\u001b[0;34m)\u001b[0m\u001b[0;34m\u001b[0m\u001b[0m\n\u001b[1;32m    116\u001b[0m             \u001b[0;31m# (4) computation of weight with IMH algo\u001b[0m\u001b[0;34m\u001b[0m\u001b[0;34m\u001b[0m\u001b[0m\n\u001b[0;32m--> 117\u001b[0;31m             \u001b[0mself\u001b[0m\u001b[0;34m.\u001b[0m\u001b[0mweights\u001b[0m \u001b[0;34m=\u001b[0m \u001b[0mself\u001b[0m\u001b[0;34m.\u001b[0m\u001b[0mfit_block\u001b[0m\u001b[0;34m(\u001b[0m\u001b[0;34m)\u001b[0m \u001b[0;31m# computation of weight\u001b[0m\u001b[0;34m\u001b[0m\u001b[0m\n\u001b[0m\u001b[1;32m    118\u001b[0m \u001b[0;34m\u001b[0m\u001b[0m\n\u001b[1;32m    119\u001b[0m         \u001b[0mself\u001b[0m\u001b[0;34m.\u001b[0m\u001b[0mweights\u001b[0m \u001b[0;34m=\u001b[0m \u001b[0mnp\u001b[0m\u001b[0;34m.\u001b[0m\u001b[0mreshape\u001b[0m\u001b[0;34m(\u001b[0m\u001b[0mself\u001b[0m\u001b[0;34m.\u001b[0m\u001b[0mweights\u001b[0m\u001b[0;34m,\u001b[0m\u001b[0mnewshape\u001b[0m\u001b[0;34m=\u001b[0m\u001b[0mself\u001b[0m\u001b[0;34m.\u001b[0m\u001b[0my\u001b[0m\u001b[0;34m.\u001b[0m\u001b[0mshape\u001b[0m\u001b[0;34m)\u001b[0m\u001b[0;34m\u001b[0m\u001b[0m\n",
      "\u001b[0;32m<ipython-input-2-05ac218676d4>\u001b[0m in \u001b[0;36mfit_block\u001b[0;34m(self)\u001b[0m\n\u001b[1;32m     74\u001b[0m \u001b[0;34m\u001b[0m\u001b[0m\n\u001b[1;32m     75\u001b[0m         \u001b[0mweight\u001b[0m \u001b[0;34m=\u001b[0m \u001b[0mnp\u001b[0m\u001b[0;34m.\u001b[0m\u001b[0mfull\u001b[0m\u001b[0;34m(\u001b[0m\u001b[0mfill_value\u001b[0m \u001b[0;34m=\u001b[0m \u001b[0;36m0\u001b[0m\u001b[0;34m,\u001b[0m \u001b[0mshape\u001b[0m \u001b[0;34m=\u001b[0m \u001b[0mself\u001b[0m\u001b[0;34m.\u001b[0m\u001b[0my\u001b[0m\u001b[0;34m.\u001b[0m\u001b[0mshape\u001b[0m\u001b[0;34m)\u001b[0m\u001b[0;34m\u001b[0m\u001b[0m\n\u001b[0;32m---> 76\u001b[0;31m         \u001b[0;32mwith\u001b[0m \u001b[0mPool\u001b[0m\u001b[0;34m(\u001b[0m\u001b[0mself\u001b[0m\u001b[0;34m.\u001b[0m\u001b[0mnjobs\u001b[0m\u001b[0;34m)\u001b[0m \u001b[0;32mas\u001b[0m \u001b[0mp\u001b[0m\u001b[0;34m:\u001b[0m\u001b[0;34m\u001b[0m\u001b[0m\n\u001b[0m\u001b[1;32m     77\u001b[0m             \u001b[0;32mfor\u001b[0m \u001b[0mb\u001b[0m \u001b[0;32min\u001b[0m \u001b[0mrange\u001b[0m\u001b[0;34m(\u001b[0m\u001b[0mself\u001b[0m\u001b[0;34m.\u001b[0m\u001b[0mB\u001b[0m\u001b[0;34m)\u001b[0m\u001b[0;34m:\u001b[0m\u001b[0;34m\u001b[0m\u001b[0m\n\u001b[1;32m     78\u001b[0m \u001b[0;34m\u001b[0m\u001b[0m\n",
      "\u001b[0;32m~/.anaconda3/lib/python3.6/multiprocessing/context.py\u001b[0m in \u001b[0;36mPool\u001b[0;34m(self, processes, initializer, initargs, maxtasksperchild)\u001b[0m\n",
      "\u001b[0;32m~/.anaconda3/lib/python3.6/multiprocessing/pool.py\u001b[0m in \u001b[0;36m__init__\u001b[0;34m(self, processes, initializer, initargs, maxtasksperchild, context)\u001b[0m\n",
      "\u001b[0;32m~/.anaconda3/lib/python3.6/multiprocessing/pool.py\u001b[0m in \u001b[0;36m_setup_queues\u001b[0;34m(self)\u001b[0m\n",
      "\u001b[0;32m~/.anaconda3/lib/python3.6/multiprocessing/context.py\u001b[0m in \u001b[0;36mSimpleQueue\u001b[0;34m(self)\u001b[0m\n",
      "\u001b[0;32m~/.anaconda3/lib/python3.6/multiprocessing/queues.py\u001b[0m in \u001b[0;36m__init__\u001b[0;34m(self, ctx)\u001b[0m\n",
      "\u001b[0;32m~/.anaconda3/lib/python3.6/multiprocessing/context.py\u001b[0m in \u001b[0;36mLock\u001b[0;34m(self)\u001b[0m\n",
      "\u001b[0;32m~/.anaconda3/lib/python3.6/multiprocessing/synchronize.py\u001b[0m in \u001b[0;36m__init__\u001b[0;34m(self, ctx)\u001b[0m\n",
      "\u001b[0;32m~/.anaconda3/lib/python3.6/multiprocessing/synchronize.py\u001b[0m in \u001b[0;36m__init__\u001b[0;34m(self, kind, value, maxvalue, ctx)\u001b[0m\n",
      "\u001b[0;31mOSError\u001b[0m: [Errno 24] Too many open files"
     ]
    }
   ],
   "source": [
    "l_parallel =[]\n",
    "for i in tqdm(range(40)) :\n",
    "    l_parallel += [IMH_computer.fit(x0 = 0, N = 40, method='parallel', njobs=4, permutation='random') ]"
   ]
  },
  {
   "cell_type": "code",
   "execution_count": 11,
   "metadata": {},
   "outputs": [],
   "source": [
    "l_simple = [IMH_computer.fit(x0 = 0, N = 40, method='simple') for i in range(40)]"
   ]
  },
  {
   "cell_type": "code",
   "execution_count": 12,
   "metadata": {},
   "outputs": [
    {
     "data": {
      "text/plain": [
       "0.04556111599979288"
      ]
     },
     "execution_count": 12,
     "metadata": {},
     "output_type": "execute_result"
    }
   ],
   "source": [
    "np.var(l_parallel)"
   ]
  },
  {
   "cell_type": "code",
   "execution_count": 13,
   "metadata": {},
   "outputs": [
    {
     "data": {
      "text/plain": [
       "0.049156367128033174"
      ]
     },
     "execution_count": 13,
     "metadata": {},
     "output_type": "execute_result"
    }
   ],
   "source": [
    "np.var(l_simple)"
   ]
  },
  {
   "cell_type": "code",
   "execution_count": null,
   "metadata": {
    "collapsed": true
   },
   "outputs": [],
   "source": []
  },
  {
   "cell_type": "code",
   "execution_count": null,
   "metadata": {
    "collapsed": true
   },
   "outputs": [],
   "source": []
  },
  {
   "cell_type": "code",
   "execution_count": null,
   "metadata": {
    "collapsed": true
   },
   "outputs": [],
   "source": []
  },
  {
   "cell_type": "code",
   "execution_count": null,
   "metadata": {
    "collapsed": true
   },
   "outputs": [],
   "source": []
  },
  {
   "cell_type": "code",
   "execution_count": null,
   "metadata": {
    "collapsed": true
   },
   "outputs": [],
   "source": [
    "class IMH(object):\n",
    "    \"\"\"\n",
    "    Class IMH\n",
    "    #########\n",
    "    \n",
    "    Implementation of IMH (Independent Metropolis Hasting) algorithm explained in :\n",
    "    << Using parallel computation to improve Independent Metropolis Hasting based estimation >>\n",
    "    Jacob and al. 2011\n",
    "    \n",
    "    Arguments\n",
    "    ---------\n",
    "    - omega (function) : density function of the distribution to simulate\n",
    "    - gen_candidate (function(N) ) : reurn an array of N values gen from the candidate distribution\n",
    "\n",
    "    - x0 (float) : initialisation\n",
    "    - N (int) : length of the markov chain\n",
    "    - njobs (int) : \n",
    "\n",
    "    Methods\n",
    "    -------\n",
    "    - compute_permutation : Return the permuted index 1,2,...,n according to self.permutation method\n",
    "    - fit_simple : implementation of the fundamental version of the IMH algorithm \n",
    "    - fit_block : implementation of the block version of the IMH algorithm \n",
    "    - fit : main method interface\n",
    "    \"\"\"\n",
    "    \n",
    "    def __init__(self, omega, gen_candidate) :\n",
    "        self.omega = np.vectorize(omega)\n",
    "        self.gen_candidate = gen_candidate\n",
    "\n",
    "    def compute_permutation(self, n):\n",
    "        \"\"\"\n",
    "        \"\"\"\n",
    "        \n",
    "        l = list(range(1,n))\n",
    "        \n",
    "        if self.permutation == \"same_order\":\n",
    "            return_list = [l]*self.njobs\n",
    "\n",
    "        elif self.permutation == \"random\": \n",
    "            all_perm = list(itertools.permutations(l))\n",
    "            return_list = list(random.sample(all_perm, k=self.njobs))\n",
    "\n",
    "        else:\n",
    "            return_list = l\n",
    "            \n",
    "        return(return_list)\n",
    "\n",
    "\n",
    "    def fit_simple(self, i=None, b=0):\n",
    "\n",
    "        n = self.y.shape[0] # either equal to : \n",
    "                            # - self.N (when method ='simple')\n",
    "                            # - self.njobs (when method ='parallel')\n",
    "        if i == None :\n",
    "            i = list(range(1,n)) # is the identity permutation\n",
    "        \n",
    "        i = [0]+list(i)\n",
    "        # go\n",
    "        current = 0\n",
    "        weight = np.full(fill_value = 0, shape = n)\n",
    "        for candidate in range(1, len(i)):\n",
    "            ratio = min(1, self.omega_y[i[candidate],b]/self.omega_y[i[current],b])\n",
    "            u = np.random.binomial(1,ratio)\n",
    "            current += u*(candidate-current) # current is updated to candidate if u = 1 \n",
    "                                             # and stay current if u = 0\n",
    "\n",
    "            weight[i[current]] += 1 # add current value to the chain\n",
    "        \n",
    "        return weight\n",
    "\n",
    "            \n",
    "    def fit_block(self):\n",
    "        \n",
    "        weight = np.full(fill_value = 0, shape = self.y.shape)\n",
    "        with Pool(self.njobs) as p:\n",
    "            for b in range(self.B):\n",
    "\n",
    "                perm_list = self.compute_permutation(self.y.shape[0])\n",
    "\n",
    "                weight_block = np.array(p.starmap(self.fit_simple, [(i,b) for i in perm_list]))\n",
    "                weight[:,b] = weight_block.sum(axis = 0)\n",
    "\n",
    "                if b < self.B-1 : # init the next block picking randomly in the current block\n",
    "                    self.y[0,b+1] = np.random.choice(self.y[:,b], size=1, p= weight[:,b]/weight[:,b].sum())\n",
    "                    self.omega_y[0,b+1] = self.omega(self.y[0,b+1])\n",
    "        \n",
    "        return weight\n",
    "\n",
    "\n",
    "    def fit(self, x0, N, method = 'simple', njobs = 1, permutation = 'same_order'):\n",
    "        self.N = N - N%njobs # so that N/njobs is equal to int(N/njobs)\n",
    "        self.B = int(N/njobs)\n",
    "        self.njobs = njobs\n",
    "        self.permutation = permutation\n",
    "\n",
    "        if method == \"simple\":            \n",
    "            # (1) creation of candidate sample\n",
    "            self.y = np.reshape(self.gen_candidate(N-1), newshape=(N-1,1))\n",
    "            # (2) add init value\n",
    "            self.y = np.append([[x0]], self.y, axis = 0)\n",
    "            # (3) computation of omega values\n",
    "            self.omega_y = self.omega(self.y)\n",
    "            # (4) computation of weight with IMH algo\n",
    "            self.weights = self.fit_simple()\n",
    "            \n",
    "        elif method == 'parallel':\n",
    "            # (1) creation of candidate sample\n",
    "            self.y = np.array(Pool(njobs).map(self.gen_candidate,[self.B]*njobs))\n",
    "            # (2) add init value\n",
    "            self.y = np.append(np.full((1,self.B), x0), self.y, axis = 0)\n",
    "            # (3) computation of omega values\n",
    "            self.omega_y = np.array(Pool(njobs).map(self.omega, list(self.y)[1:]))\n",
    "            self.omega_y = np.append(np.full((1,self.B), 0), self.omega_y, axis = 0)\n",
    "            self.omega_y[0,0] = self.omega(self.y[0,0])\n",
    "            # (4) computation of weight with IMH algo\n",
    "            self.weights = self.fit_block() # computation of weight\n",
    "        \n",
    "        self.weights = np.reshape(self.weights,newshape=self.y.shape)\n",
    "        self.expectation = np.average(self.y, weights= self.weights)\n",
    "        \n",
    "        return self.expectation"
   ]
  }
 ],
 "metadata": {
  "kernelspec": {
   "display_name": "Python 2",
   "language": "python",
   "name": "python2"
  },
  "language_info": {
   "codemirror_mode": {
    "name": "ipython",
    "version": 3
   },
   "file_extension": ".py",
   "mimetype": "text/x-python",
   "name": "python",
   "nbconvert_exporter": "python",
   "pygments_lexer": "ipython3",
   "version": "3.6.3"
  }
 },
 "nbformat": 4,
 "nbformat_minor": 2
}
