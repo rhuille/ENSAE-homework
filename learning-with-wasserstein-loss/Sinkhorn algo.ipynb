{
 "cells": [
  {
   "cell_type": "code",
   "execution_count": null,
   "metadata": {
    "collapsed": true
   },
   "outputs": [],
   "source": []
  },
  {
   "cell_type": "code",
   "execution_count": null,
   "metadata": {
    "collapsed": true
   },
   "outputs": [],
   "source": [
    "import numpy as np\n",
    "from math import pi\n",
    "import matplotlib.pyplot as plt\n",
    "from sklearn.metrics import confusion_matrix\n",
    "%matplotlib inline"
   ]
  },
  {
   "cell_type": "code",
   "execution_count": null,
   "metadata": {
    "collapsed": true
   },
   "outputs": [],
   "source": [
    "def Sinkhorn(K,a_,b_):\n",
    "    # initialisation\n",
    "    k = K.shape[0]\n",
    "    a = np.full((k,1), a_)\n",
    "    b = np.full((k,1), b_)\n",
    "    \n",
    "    u = np.full((k,1), 1)\n",
    "    v = np.full((k,1), 1)\n",
    "\n",
    "    for i in range(100):\n",
    "        u = a / np.dot(K.T, v)\n",
    "        v = b / np.dot(K, u)\n",
    "        #v = b / np.dot(K  , a / np.dot(K.T, v))\n",
    "        #norm_u += [np.linalg.norm(u, 2)]\n",
    "        #norm_v += [np.linalg.norm(v, 2)]\n",
    "\n",
    "    D_u = np.diag(u[:,0])\n",
    "    D_v = np.diag(v[:,0])\n",
    "\n",
    "    return np.dot(D_v, np.dot(K,D_u))"
   ]
  },
  {
   "cell_type": "code",
   "execution_count": null,
   "metadata": {
    "collapsed": true
   },
   "outputs": [],
   "source": []
  },
  {
   "cell_type": "code",
   "execution_count": null,
   "metadata": {
    "collapsed": true
   },
   "outputs": [],
   "source": [
    "int_ = np.vectorize(int)\n",
    "K = int_( np.abs(np.random.normal(size=(3,3)))*10 +1)\n",
    "K"
   ]
  },
  {
   "cell_type": "code",
   "execution_count": null,
   "metadata": {
    "collapsed": true
   },
   "outputs": [],
   "source": [
    "S = Sinkhorn(K, 5, 1)\n",
    "S"
   ]
  },
  {
   "cell_type": "code",
   "execution_count": null,
   "metadata": {
    "collapsed": true
   },
   "outputs": [],
   "source": [
    "print(S.sum(axis=1))\n",
    "print(S.sum(axis=0))"
   ]
  },
  {
   "cell_type": "code",
   "execution_count": null,
   "metadata": {
    "collapsed": true
   },
   "outputs": [],
   "source": [
    "plt.plot(norm_v)\n",
    "plt.show()\n",
    "plt.plot(norm_u)\n",
    "plt.show()"
   ]
  }
 ],
 "metadata": {
  "kernelspec": {
   "display_name": "Python 3",
   "language": "python",
   "name": "python3"
  },
  "language_info": {
   "codemirror_mode": {
    "name": "ipython",
    "version": 3
   },
   "file_extension": ".py",
   "mimetype": "text/x-python",
   "name": "python",
   "nbconvert_exporter": "python",
   "pygments_lexer": "ipython3",
   "version": "3.6.3"
  }
 },
 "nbformat": 4,
 "nbformat_minor": 2
}
