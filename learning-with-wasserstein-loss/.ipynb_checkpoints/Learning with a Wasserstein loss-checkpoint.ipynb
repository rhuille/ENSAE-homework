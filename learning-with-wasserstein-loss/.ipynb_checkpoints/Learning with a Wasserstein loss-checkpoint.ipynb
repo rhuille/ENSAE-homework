{
 "cells": [
  {
   "cell_type": "code",
   "execution_count": 163,
   "metadata": {},
   "outputs": [],
   "source": [
    "import numpy as np\n",
    "import matplotlib.pyplot as plt\n",
    "from sklearn.metrics import confusion_matrix\n",
    "from sklearn.datasets import load_iris\n",
    "%matplotlib inline"
   ]
  },
  {
   "cell_type": "markdown",
   "metadata": {},
   "source": [
    "https://arxiv.org/pdf/1506.05439.pdf"
   ]
  },
  {
   "cell_type": "markdown",
   "metadata": {},
   "source": [
    "# Intro"
   ]
  },
  {
   "cell_type": "code",
   "execution_count": null,
   "metadata": {
    "collapsed": true
   },
   "outputs": [],
   "source": []
  },
  {
   "cell_type": "markdown",
   "metadata": {},
   "source": [
    "# Implementation"
   ]
  },
  {
   "cell_type": "code",
   "execution_count": 154,
   "metadata": {},
   "outputs": [],
   "source": [
    "class predictor:\n",
    "    \n",
    "    def __init__(self, loss ='wasserstein', method = 'gradient', n_iter = 10,\n",
    "                 batch_size = 10, eta = 0.01, ground_metric = None, lambda_ = 0.1):\n",
    "        \n",
    "        self.loss = loss\n",
    "        self.method = method\n",
    "        self.eta = eta\n",
    "        self.s = batch_size\n",
    "        self.n_iter = n_iter\n",
    "        self.l = lambda_\n",
    "        self.M = ground_metric # have a default value\n",
    "        #\n",
    "        \n",
    "        # data\n",
    "        self.X = None\n",
    "        self.y = None\n",
    "        self.t = None\n",
    "        \n",
    "        # size\n",
    "        self.m = None\n",
    "        self.n = None\n",
    "        self.p = None\n",
    "        \n",
    "        # storage\n",
    "        self.t_list = None\n",
    "        self.grad_list = None\n",
    "\n",
    "    def __str__(self):\n",
    "        sb = []\n",
    "        \n",
    "        for key in self.__dict__:\n",
    "            if key in ['X', 'y', 't', 'M', 't_list', 'grad_list']:\n",
    "                continue\n",
    "            sb.append(\"{key}='{value}'\".format(key=key, value=self.__dict__[key]))\n",
    "                               \n",
    "        return 'predictor (' + ', '.join(sb) + ')'\n",
    "    \n",
    "    def __repr__(self):\n",
    "        return self.__str__()\n",
    "    \n",
    "    def train(self, X, y, theta_0 = None):\n",
    "        \"\"\" main interface methode \"\"\"\n",
    "        \n",
    "        # data\n",
    "        self.X = X\n",
    "        self.y = y\n",
    "        self.t = theta_0 # have a default value\n",
    "        \n",
    "        # size\n",
    "        self.m = y.shape[1]\n",
    "        self.n = X.shape[0]\n",
    "        self.p = X.shape[1]\n",
    "        \n",
    "        # storage\n",
    "        self.t_list = np.array([])\n",
    "        self.grad_list = np.array([])\n",
    "        \n",
    "        # default parameters\n",
    "        if self.M == None :\n",
    "            self.M = np.full((self.m, self.m), 1) - np.eye(self.m)\n",
    "        if self.t ==None:\n",
    "            self.t = np.full((self.p, self.m), 0)\n",
    "        self.t_list = [ self.t ]\n",
    "        self.grad_list = []\n",
    "        \n",
    "        # train loss :\n",
    "        if self.loss == 'wasserstein':\n",
    "            self.train_wasserstein()\n",
    "            \n",
    "        if self.loss == 'logistic':\n",
    "            self.train_logistic()\n",
    "        \n",
    "        return self\n",
    "    \n",
    "    def Sinkorn_computation(self, y_pred, y):\n",
    "        \"\"\" tool \"\"\"\n",
    "        \n",
    "        m = self.m\n",
    "        l = self.l\n",
    "        M = self.M\n",
    "        \n",
    "        K = np.exp( -l*M - 1)\n",
    "        u = np.full(m, 1)\n",
    "        for i in range(100):\n",
    "            u = y/np.dot(u, K.T)\n",
    "            u = y_pred/np.dot(u, K)\n",
    "\n",
    "        return np.log(u)/l - np.log(u.sum())/(l*m)*np.full(m ,1)\n",
    "    \n",
    "    def H_gradient_computation(self, y_pred, x_i):\n",
    "        \"\"\" tool \"\"\"\n",
    "        \n",
    "        m = self.m\n",
    "        p = self.p\n",
    "        \n",
    "        a = np.repeat(np.reshape(y_pred, newshape=(m,1)), repeats=m, axis=1)\n",
    "        a = a*(np.eye(m,m) - a.T)\n",
    "        a = np.reshape(a, newshape=(m,1,m))\n",
    "        x_i = np.reshape(x_i, newshape=(p,1))\n",
    "        a = np.dot(x_i,a)\n",
    "\n",
    "        return a\n",
    "    \n",
    "    def batch_list_creator(self, s):\n",
    "        \"\"\" tool \"\"\"\n",
    "        s = self.s\n",
    "        n = self.n\n",
    "        \n",
    "        index = np.arange(n)\n",
    "        np.random.shuffle(index)\n",
    "        i_ = 0\n",
    "        batch_list =[]\n",
    "        for i in np.arange(s,n+s,s):\n",
    "            batch_list+=[index[i_:i]]\n",
    "            i_ = i\n",
    "        return batch_list\n",
    "    \n",
    "    \n",
    "    def train_wasserstein(self) :\n",
    "        \"\"\" main algo of the notebook \"\"\"\n",
    "        m = self.m\n",
    "        n = self.n\n",
    "        p = self.p\n",
    "        s = self.s\n",
    "        eta = self.eta\n",
    "        \n",
    "        for xx in range(self.n_iter) :\n",
    "            if self.method == 'sgd' : \n",
    "                batch_list = self.batch_list_creator(s) #calling tool\n",
    "            elif self.method == 'gradient' : \n",
    "                batch_list = [np.arange(n)]\n",
    "            else:\n",
    "                print('self.method is not valid')\n",
    "                break\n",
    "                \n",
    "            for batch in batch_list :\n",
    "                # - compute gradient in bacth - #\n",
    "                gradient = 0\n",
    "                for i in batch :\n",
    "                    x_i = self.X[i,:]\n",
    "                    y_i = self.y[i]\n",
    "                    y_pred = softmax(np.dot(x_i, self.t))\n",
    "\n",
    "                    wasserstein_subgrad = self.Sinkorn_computation(y_pred, y_i) #calling tool\n",
    "                    h_gradient = self.H_gradient_computation(y_pred, x_i) #calling tool\n",
    "                    \n",
    "                    gradient += np.dot(h_gradient, wasserstein_subgrad)\n",
    "                # - end gradient in bacth - #\n",
    "                \n",
    "                # new step\n",
    "                self.t = self.t - eta*gradient\n",
    "                \n",
    "                # storage : \n",
    "                self.t_list += [self.t]\n",
    "                self.grad_list += [gradient]\n",
    "        \n",
    "        self.t_list = np.array(self.t_list)\n",
    "        self.grad_list = np.array(self.grad_list)\n",
    "        return self.t\n",
    "    \n",
    "    \n",
    "    \n",
    "    def predict(self, X):\n",
    "        \"\"\" main interface methode \"\"\"\n",
    "        \n",
    "        return softmax_(np.dot(X, self.t))"
   ]
  },
  {
   "cell_type": "code",
   "execution_count": null,
   "metadata": {
    "collapsed": true
   },
   "outputs": [],
   "source": []
  },
  {
   "cell_type": "markdown",
   "metadata": {},
   "source": [
    "# Simulation study"
   ]
  },
  {
   "cell_type": "code",
   "execution_count": 155,
   "metadata": {
    "collapsed": true,
    "scrolled": true
   },
   "outputs": [],
   "source": [
    "def softmax(z):\n",
    "    e = np.exp(z)\n",
    "    return e/e.sum() \n",
    "\n",
    "def softmax_(z):\n",
    "    return np.apply_along_axis(softmax, 1, z)"
   ]
  },
  {
   "cell_type": "code",
   "execution_count": 156,
   "metadata": {
    "scrolled": true
   },
   "outputs": [
    {
     "data": {
      "image/png": "[encoded data removed]",
      "text/plain": [
       "<matplotlib.figure.Figure at 0x7f17c10979b0>"
      ]
     },
     "metadata": {},
     "output_type": "display_data"
    }
   ],
   "source": [
    "x = np.array([[i,3] for i in np.arange(-10,10,0.1)])\n",
    "r  = np.array([softmax(k) for k in x])\n",
    "\n",
    "plt.figure(figsize=(10,5))\n",
    "plt.title('Softmax function')\n",
    "plt.plot(x[:,0], r[:, 0], x[:,0], r[:, 1])\n",
    "plt.show()  "
   ]
  },
  {
   "cell_type": "markdown",
   "metadata": {},
   "source": [
    "### dataset"
   ]
  },
  {
   "cell_type": "code",
   "execution_count": 157,
   "metadata": {
    "collapsed": true
   },
   "outputs": [],
   "source": [
    "# parameters\n",
    "n = 100 # number of observations\n",
    "m = 3 # number of class\n",
    "p = 5 # dimension of parameters"
   ]
  },
  {
   "cell_type": "code",
   "execution_count": 158,
   "metadata": {
    "collapsed": true
   },
   "outputs": [],
   "source": [
    "# dataset\n",
    "X = np.random.uniform(-1,1,size=(n,p))\n",
    "t = np.floor(np.random.uniform(-1,1,size=(p,m))*10)+1\n",
    "\n",
    "y_latent = softmax_(np.dot(X,t)) # the 'distribution' over class\n",
    "y = y_latent.argmax(axis =1) # the class"
   ]
  },
  {
   "cell_type": "markdown",
   "metadata": {},
   "source": [
    "### Analysis of convergence"
   ]
  },
  {
   "cell_type": "code",
   "execution_count": 159,
   "metadata": {
    "scrolled": true
   },
   "outputs": [
    {
     "data": {
      "image/png": "[encoded data removed]",
      "text/plain": [
       "<matplotlib.figure.Figure at 0x7f17c1647128>"
      ]
     },
     "metadata": {},
     "output_type": "display_data"
    }
   ],
   "source": [
    "clf = predictor(method='gradient')\n",
    "clf.train(X,y_latent)\n",
    "\n",
    "norm_list = [np.linalg.norm(g) for g in clf.grad_list]\n",
    "\n",
    "plt.figure(figsize=(8,5))\n",
    "plt.title( 'loss: ' + clf.loss  + '; method : '+ clf.method)\n",
    "plt.plot(norm_list)\n",
    "plt.show()"
   ]
  },
  {
   "cell_type": "code",
   "execution_count": 160,
   "metadata": {
    "scrolled": true
   },
   "outputs": [
    {
     "data": {
      "image/png": "[encoded data removed]",
      "text/plain": [
       "<matplotlib.figure.Figure at 0x7f17c1097198>"
      ]
     },
     "metadata": {},
     "output_type": "display_data"
    }
   ],
   "source": [
    "clf = predictor(method='sgd')\n",
    "clf.train(X,y_latent)\n",
    "\n",
    "norm_list = [np.linalg.norm(g) for g in clf.grad_list]\n",
    "\n",
    "plt.figure(figsize=(8,5))\n",
    "plt.title( 'loss: ' + clf.loss  + '; method : '+ clf.method)\n",
    "plt.plot(norm_list)\n",
    "plt.show()"
   ]
  },
  {
   "cell_type": "code",
   "execution_count": null,
   "metadata": {
    "collapsed": true
   },
   "outputs": [],
   "source": []
  },
  {
   "cell_type": "code",
   "execution_count": null,
   "metadata": {
    "collapsed": true
   },
   "outputs": [],
   "source": []
  },
  {
   "cell_type": "code",
   "execution_count": null,
   "metadata": {
    "collapsed": true
   },
   "outputs": [],
   "source": []
  },
  {
   "cell_type": "markdown",
   "metadata": {
    "collapsed": true
   },
   "source": [
    "### Analysis of prediction"
   ]
  },
  {
   "cell_type": "code",
   "execution_count": 161,
   "metadata": {
    "scrolled": true
   },
   "outputs": [
    {
     "data": {
      "text/plain": [
       "array([[33,  0,  3],\n",
       "       [ 0, 35,  1],\n",
       "       [ 0,  1, 27]])"
      ]
     },
     "execution_count": 161,
     "metadata": {},
     "output_type": "execute_result"
    }
   ],
   "source": [
    "y_latent_pred = clf.predict(X)\n",
    "y_pred = y_latent_pred.argmax(axis = 1)\n",
    "confusion_matrix(y_pred, y)"
   ]
  },
  {
   "cell_type": "code",
   "execution_count": null,
   "metadata": {
    "collapsed": true
   },
   "outputs": [],
   "source": []
  },
  {
   "cell_type": "code",
   "execution_count": null,
   "metadata": {
    "collapsed": true
   },
   "outputs": [],
   "source": []
  },
  {
   "cell_type": "code",
   "execution_count": null,
   "metadata": {
    "collapsed": true
   },
   "outputs": [],
   "source": []
  },
  {
   "cell_type": "markdown",
   "metadata": {},
   "source": [
    "# On iris dataset"
   ]
  },
  {
   "cell_type": "markdown",
   "metadata": {},
   "source": [
    "### dataset"
   ]
  },
  {
   "cell_type": "code",
   "execution_count": 192,
   "metadata": {
    "collapsed": true
   },
   "outputs": [],
   "source": [
    "def create_latent(y):\n",
    "    y_latent = np.array([ [0]*3 for i in y])\n",
    "    for v,i in enumerate(y) :\n",
    "        y_latent[v,i]+=1\n",
    "    return y_latent"
   ]
  },
  {
   "cell_type": "code",
   "execution_count": 193,
   "metadata": {},
   "outputs": [],
   "source": [
    "X = load_iris().data\n",
    "y = load_iris().target\n",
    "y_latent = create_latent(y)"
   ]
  },
  {
   "cell_type": "markdown",
   "metadata": {},
   "source": [
    "### Analysis of convergence"
   ]
  },
  {
   "cell_type": "code",
   "execution_count": 199,
   "metadata": {},
   "outputs": [
    {
     "data": {
      "image/png": "[encoded data removed]",
      "text/plain": [
       "<matplotlib.figure.Figure at 0x7f17c0f55438>"
      ]
     },
     "metadata": {},
     "output_type": "display_data"
    }
   ],
   "source": [
    "clf = predictor(method='gradient', eta = 0.001,n_iter=50)\n",
    "clf.train(X,y_latent)\n",
    "\n",
    "norm_list = [np.linalg.norm(g) for g in clf.grad_list]\n",
    "\n",
    "plt.figure(figsize=(8,5))\n",
    "plt.title( 'loss: ' + clf.loss  + '; method : '+ clf.method)\n",
    "plt.plot(norm_list)\n",
    "plt.show()"
   ]
  },
  {
   "cell_type": "markdown",
   "metadata": {},
   "source": [
    "### Analysis of prediction"
   ]
  },
  {
   "cell_type": "code",
   "execution_count": 200,
   "metadata": {},
   "outputs": [
    {
     "data": {
      "text/plain": [
       "array([[ 0,  0,  0],\n",
       "       [50, 50, 50],\n",
       "       [ 0,  0,  0]])"
      ]
     },
     "execution_count": 200,
     "metadata": {},
     "output_type": "execute_result"
    }
   ],
   "source": [
    "y_latent_pred = clf.predict(X)\n",
    "y_pred = y_latent_pred.argmax(axis = 1)\n",
    "confusion_matrix(y_pred, y)"
   ]
  },
  {
   "cell_type": "code",
   "execution_count": 197,
   "metadata": {},
   "outputs": [
    {
     "data": {
      "text/plain": [
       "array([[  9.62998606e-039,   1.00000000e+000,   5.79891398e-128],\n",
       "       [  1.06370316e-036,   1.00000000e+000,   1.76429573e-120],\n",
       "       [  9.12545561e-036,   1.00000000e+000,   6.43179155e-118],\n",
       "       [  7.44915356e-036,   1.00000000e+000,   1.68969705e-117],\n",
       "       [  1.79247547e-038,   1.00000000e+000,   3.40567102e-127],\n",
       "       [  1.65600718e-042,   1.00000000e+000,   6.24702990e-140],\n",
       "       [  3.06485326e-036,   1.00000000e+000,   2.41022246e-119],\n",
       "       [  1.94651165e-038,   1.00000000e+000,   1.61017127e-126],\n",
       "       [  4.62068705e-034,   1.00000000e+000,   1.53817317e-111],\n",
       "       [  3.57562668e-037,   1.00000000e+000,   4.95321630e-122],\n",
       "       [  5.08635988e-041,   1.00000000e+000,   1.53438839e-135],\n",
       "       [  7.32345333e-038,   1.00000000e+000,   2.62575082e-124],\n",
       "       [  4.43140530e-036,   1.00000000e+000,   1.53641928e-118],\n",
       "       [  1.78226849e-032,   1.00000000e+000,   2.23733085e-107],\n",
       "       [  2.01787424e-042,   1.00000000e+000,   1.72641062e-141],\n",
       "       [  3.01166342e-044,   1.00000000e+000,   5.52498285e-147],\n",
       "       [  6.22555574e-041,   1.00000000e+000,   7.79592541e-136],\n",
       "       [  7.05543154e-039,   1.00000000e+000,   2.76454257e-128],\n",
       "       [  1.30346339e-043,   1.00000000e+000,   1.29452661e-143],\n",
       "       [  6.46205221e-040,   1.00000000e+000,   7.40453694e-132],\n",
       "       [  3.65782794e-041,   1.00000000e+000,   4.85193654e-135],\n",
       "       [  7.76353950e-040,   1.00000000e+000,   2.49536150e-131],\n",
       "       [  5.84850561e-035,   1.00000000e+000,   1.26257359e-116],\n",
       "       [  6.70757070e-040,   1.00000000e+000,   2.65918680e-130],\n",
       "       [  4.82368552e-039,   1.00000000e+000,   2.22386255e-127],\n",
       "       [  5.68386235e-038,   1.00000000e+000,   3.80416511e-124],\n",
       "       [  4.21962519e-039,   1.00000000e+000,   3.46239635e-128],\n",
       "       [  1.27417106e-039,   1.00000000e+000,   1.32154868e-130],\n",
       "       [  5.17366250e-039,   1.00000000e+000,   9.87394352e-129],\n",
       "       [  6.01059720e-037,   1.00000000e+000,   5.44736395e-121],\n",
       "       [  3.22916369e-037,   1.00000000e+000,   9.27535125e-122],\n",
       "       [  1.20386302e-040,   1.00000000e+000,   1.23187144e-133],\n",
       "       [  8.94502436e-041,   1.00000000e+000,   2.22153336e-135],\n",
       "       [  3.48024817e-042,   1.00000000e+000,   2.21296267e-140],\n",
       "       [  3.57562668e-037,   1.00000000e+000,   4.95321630e-122],\n",
       "       [  7.94651486e-037,   1.00000000e+000,   9.50026120e-122],\n",
       "       [  2.74744405e-040,   1.00000000e+000,   2.06317123e-133],\n",
       "       [  3.57562668e-037,   1.00000000e+000,   4.95321630e-122],\n",
       "       [  6.97740854e-034,   1.00000000e+000,   2.29982506e-111],\n",
       "       [  6.37731783e-039,   1.00000000e+000,   3.87844016e-128],\n",
       "       [  5.33238507e-038,   1.00000000e+000,   1.21307257e-125],\n",
       "       [  5.33965007e-033,   1.00000000e+000,   2.32953424e-107],\n",
       "       [  2.59484482e-034,   1.00000000e+000,   4.60232092e-113],\n",
       "       [  1.38126925e-039,   1.00000000e+000,   1.11319452e-129],\n",
       "       [  1.25936749e-041,   1.00000000e+000,   2.82865791e-136],\n",
       "       [  2.37868711e-036,   1.00000000e+000,   3.49190948e-119],\n",
       "       [  3.56199710e-040,   1.00000000e+000,   1.46951075e-132],\n",
       "       [  1.12484977e-035,   1.00000000e+000,   2.52637850e-117],\n",
       "       [  1.55248006e-040,   1.00000000e+000,   6.37015914e-134],\n",
       "       [  7.90364389e-038,   1.00000000e+000,   1.20303856e-124],\n",
       "       [  6.37248295e-062,   1.00000000e+000,   8.14811306e-194],\n",
       "       [  2.31461215e-058,   1.00000000e+000,   2.22187991e-182],\n",
       "       [  3.81117575e-062,   1.00000000e+000,   1.02049422e-193],\n",
       "       [  7.91170704e-050,   1.00000000e+000,   2.08245365e-154],\n",
       "       [  2.21434777e-058,   1.00000000e+000,   1.26442446e-181],\n",
       "       [  7.69450200e-054,   1.00000000e+000,   5.18929086e-167],\n",
       "       [  5.14808562e-059,   1.00000000e+000,   5.56873023e-184],\n",
       "       [  5.66176130e-044,   1.00000000e+000,   2.05123813e-137],\n",
       "       [  8.24213373e-059,   1.00000000e+000,   1.89568305e-183],\n",
       "       [  5.64466808e-049,   1.00000000e+000,   3.00683511e-152],\n",
       "       [  2.18746029e-044,   1.00000000e+000,   1.10443424e-137],\n",
       "       [  2.50318326e-054,   1.00000000e+000,   1.61680986e-169],\n",
       "       [  1.24529741e-051,   1.00000000e+000,   1.10161427e-160],\n",
       "       [  6.46030953e-057,   1.00000000e+000,   1.05455374e-176],\n",
       "       [  5.01209020e-050,   1.00000000e+000,   5.01649918e-157],\n",
       "       [  4.51121815e-059,   1.00000000e+000,   4.86638544e-185],\n",
       "       [  4.68826927e-054,   1.00000000e+000,   9.79847118e-168],\n",
       "       [  3.95161924e-052,   1.00000000e+000,   1.01769170e-162],\n",
       "       [  3.03130702e-055,   1.00000000e+000,   1.19327367e-170],\n",
       "       [  4.44684120e-050,   1.00000000e+000,   4.66807423e-156],\n",
       "       [  1.58828996e-057,   1.00000000e+000,   2.51466279e-178],\n",
       "       [  8.25276779e-054,   1.00000000e+000,   2.30404369e-168],\n",
       "       [  5.99129811e-058,   1.00000000e+000,   6.52009813e-179],\n",
       "       [  1.97355330e-056,   1.00000000e+000,   3.28000447e-175],\n",
       "       [  1.16577430e-056,   1.00000000e+000,   3.85781371e-177],\n",
       "       [  2.25789715e-058,   1.00000000e+000,   1.42817174e-182],\n",
       "       [  1.73353701e-060,   1.00000000e+000,   3.31798401e-188],\n",
       "       [  1.26213298e-061,   1.00000000e+000,   2.67364760e-191],\n",
       "       [  8.85784650e-056,   1.00000000e+000,   2.33161776e-173],\n",
       "       [  4.55889176e-049,   1.00000000e+000,   4.16371791e-154],\n",
       "       [  5.51113340e-049,   1.00000000e+000,   1.44797214e-152],\n",
       "       [  1.86261020e-048,   1.00000000e+000,   3.21020018e-151],\n",
       "       [  1.30055551e-051,   1.00000000e+000,   2.58384529e-161],\n",
       "       [  7.57068141e-058,   1.00000000e+000,   3.98437986e-178],\n",
       "       [  4.36767623e-053,   1.00000000e+000,   1.68883911e-164],\n",
       "       [  5.47355101e-057,   1.00000000e+000,   6.29708001e-178],\n",
       "       [  2.17698191e-060,   1.00000000e+000,   1.96488687e-188],\n",
       "       [  2.79384772e-055,   1.00000000e+000,   1.89086890e-171],\n",
       "       [  3.28346665e-052,   1.00000000e+000,   5.38020942e-163],\n",
       "       [  2.94230328e-050,   1.00000000e+000,   4.16732566e-156],\n",
       "       [  6.51451700e-052,   1.00000000e+000,   9.90895332e-161],\n",
       "       [  9.75530659e-057,   1.00000000e+000,   1.57673347e-176],\n",
       "       [  8.61273921e-052,   1.00000000e+000,   1.72813209e-161],\n",
       "       [  3.04175332e-044,   1.00000000e+000,   3.49269010e-138],\n",
       "       [  5.84692839e-052,   1.00000000e+000,   1.79815660e-161],\n",
       "       [  5.92975519e-053,   1.00000000e+000,   2.57192952e-165],\n",
       "       [  7.12403539e-053,   1.00000000e+000,   8.66751556e-165],\n",
       "       [  1.08605637e-055,   1.00000000e+000,   6.64922779e-174],\n",
       "       [  4.12246656e-044,   1.00000000e+000,   9.47653027e-139],\n",
       "       [  2.89265358e-052,   1.00000000e+000,   6.47592938e-163],\n",
       "       [  2.38012831e-065,   1.00000000e+000,   3.44837843e-200],\n",
       "       [  2.77374563e-057,   1.00000000e+000,   7.44081556e-176],\n",
       "       [  1.19732000e-067,   1.00000000e+000,   2.82432066e-208],\n",
       "       [  5.70947710e-062,   1.00000000e+000,   1.92003220e-190],\n",
       "       [  1.75630851e-064,   1.00000000e+000,   7.28666857e-198],\n",
       "       [  7.91886011e-073,   1.00000000e+000,   1.55417332e-223],\n",
       "       [  7.36373094e-050,   1.00000000e+000,   8.35624495e-153],\n",
       "       [  1.42545676e-069,   1.00000000e+000,   8.56680853e-214],\n",
       "       [  7.75761326e-064,   1.00000000e+000,   1.44473221e-195],\n",
       "       [  9.48149341e-071,   1.00000000e+000,   2.52089484e-218],\n",
       "       [  6.94504459e-062,   1.00000000e+000,   9.45360696e-192],\n",
       "       [  5.59493452e-061,   1.00000000e+000,   1.30086916e-187],\n",
       "       [  1.27992046e-064,   1.00000000e+000,   2.52204616e-199],\n",
       "       [  4.12995423e-056,   1.00000000e+000,   7.77819022e-172],\n",
       "       [  3.57079460e-058,   1.00000000e+000,   2.59205769e-178],\n",
       "       [  1.35965837e-062,   1.00000000e+000,   3.80667080e-193],\n",
       "       [  9.25435260e-063,   1.00000000e+000,   1.66559008e-193],\n",
       "       [  1.46835689e-075,   1.00000000e+000,   2.70795192e-233],\n",
       "       [  6.63236112e-074,   1.00000000e+000,   1.79940092e-225],\n",
       "       [  3.03370207e-056,   1.00000000e+000,   1.55929182e-172],\n",
       "       [  1.36527195e-066,   1.00000000e+000,   2.47329736e-205],\n",
       "       [  7.07895283e-056,   1.00000000e+000,   9.66195937e-172],\n",
       "       [  3.84547141e-073,   1.00000000e+000,   3.71259208e-224],\n",
       "       [  8.76257885e-059,   1.00000000e+000,   1.41372870e-181],\n",
       "       [  1.44500659e-065,   1.00000000e+000,   2.65334737e-202],\n",
       "       [  1.49808267e-068,   1.00000000e+000,   1.18878346e-211],\n",
       "       [  4.03867104e-058,   1.00000000e+000,   8.77547482e-180],\n",
       "       [  1.85138050e-058,   1.00000000e+000,   6.89793627e-181],\n",
       "       [  1.20632004e-062,   1.00000000e+000,   3.54227545e-192],\n",
       "       [  4.60130106e-067,   1.00000000e+000,   2.91987643e-207],\n",
       "       [  3.44018946e-069,   1.00000000e+000,   7.76849147e-213],\n",
       "       [  4.45794619e-075,   1.00000000e+000,   8.16212663e-233],\n",
       "       [  8.83813166e-063,   1.00000000e+000,   1.68872504e-192],\n",
       "       [  2.21609734e-059,   1.00000000e+000,   1.65226701e-183],\n",
       "       [  8.13985506e-060,   1.00000000e+000,   2.26312668e-183],\n",
       "       [  1.29638638e-071,   1.00000000e+000,   1.12222596e-220],\n",
       "       [  7.44778231e-064,   1.00000000e+000,   1.27694868e-196],\n",
       "       [  1.72255702e-062,   1.00000000e+000,   9.78192102e-193],\n",
       "       [  1.39924450e-057,   1.00000000e+000,   3.02679271e-178],\n",
       "       [  6.33215639e-065,   1.00000000e+000,   9.08296464e-201],\n",
       "       [  3.78377530e-065,   1.00000000e+000,   1.51841464e-200],\n",
       "       [  5.16041242e-064,   1.00000000e+000,   2.43739784e-198],\n",
       "       [  2.77374563e-057,   1.00000000e+000,   7.44081556e-176],\n",
       "       [  6.79641917e-067,   1.00000000e+000,   9.19166670e-206],\n",
       "       [  4.16352832e-066,   1.00000000e+000,   1.37056795e-203],\n",
       "       [  3.18371882e-063,   1.00000000e+000,   2.80974437e-195],\n",
       "       [  6.97161903e-059,   1.00000000e+000,   3.18648640e-181],\n",
       "       [  7.54186619e-062,   1.00000000e+000,   4.46958214e-191],\n",
       "       [  1.90241802e-062,   1.00000000e+000,   1.24224957e-192],\n",
       "       [  2.81303814e-058,   1.00000000e+000,   1.06427066e-179]])"
      ]
     },
     "execution_count": 197,
     "metadata": {},
     "output_type": "execute_result"
    }
   ],
   "source": [
    "y_latent_pred"
   ]
  },
  {
   "cell_type": "code",
   "execution_count": 198,
   "metadata": {},
   "outputs": [
    {
     "data": {
      "text/plain": [
       "array([[1, 0, 0],\n",
       "       [1, 0, 0],\n",
       "       [1, 0, 0],\n",
       "       [1, 0, 0],\n",
       "       [1, 0, 0],\n",
       "       [1, 0, 0],\n",
       "       [1, 0, 0],\n",
       "       [1, 0, 0],\n",
       "       [1, 0, 0],\n",
       "       [1, 0, 0],\n",
       "       [1, 0, 0],\n",
       "       [1, 0, 0],\n",
       "       [1, 0, 0],\n",
       "       [1, 0, 0],\n",
       "       [1, 0, 0],\n",
       "       [1, 0, 0],\n",
       "       [1, 0, 0],\n",
       "       [1, 0, 0],\n",
       "       [1, 0, 0],\n",
       "       [1, 0, 0],\n",
       "       [1, 0, 0],\n",
       "       [1, 0, 0],\n",
       "       [1, 0, 0],\n",
       "       [1, 0, 0],\n",
       "       [1, 0, 0],\n",
       "       [1, 0, 0],\n",
       "       [1, 0, 0],\n",
       "       [1, 0, 0],\n",
       "       [1, 0, 0],\n",
       "       [1, 0, 0],\n",
       "       [1, 0, 0],\n",
       "       [1, 0, 0],\n",
       "       [1, 0, 0],\n",
       "       [1, 0, 0],\n",
       "       [1, 0, 0],\n",
       "       [1, 0, 0],\n",
       "       [1, 0, 0],\n",
       "       [1, 0, 0],\n",
       "       [1, 0, 0],\n",
       "       [1, 0, 0],\n",
       "       [1, 0, 0],\n",
       "       [1, 0, 0],\n",
       "       [1, 0, 0],\n",
       "       [1, 0, 0],\n",
       "       [1, 0, 0],\n",
       "       [1, 0, 0],\n",
       "       [1, 0, 0],\n",
       "       [1, 0, 0],\n",
       "       [1, 0, 0],\n",
       "       [1, 0, 0],\n",
       "       [0, 1, 0],\n",
       "       [0, 1, 0],\n",
       "       [0, 1, 0],\n",
       "       [0, 1, 0],\n",
       "       [0, 1, 0],\n",
       "       [0, 1, 0],\n",
       "       [0, 1, 0],\n",
       "       [0, 1, 0],\n",
       "       [0, 1, 0],\n",
       "       [0, 1, 0],\n",
       "       [0, 1, 0],\n",
       "       [0, 1, 0],\n",
       "       [0, 1, 0],\n",
       "       [0, 1, 0],\n",
       "       [0, 1, 0],\n",
       "       [0, 1, 0],\n",
       "       [0, 1, 0],\n",
       "       [0, 1, 0],\n",
       "       [0, 1, 0],\n",
       "       [0, 1, 0],\n",
       "       [0, 1, 0],\n",
       "       [0, 1, 0],\n",
       "       [0, 1, 0],\n",
       "       [0, 1, 0],\n",
       "       [0, 1, 0],\n",
       "       [0, 1, 0],\n",
       "       [0, 1, 0],\n",
       "       [0, 1, 0],\n",
       "       [0, 1, 0],\n",
       "       [0, 1, 0],\n",
       "       [0, 1, 0],\n",
       "       [0, 1, 0],\n",
       "       [0, 1, 0],\n",
       "       [0, 1, 0],\n",
       "       [0, 1, 0],\n",
       "       [0, 1, 0],\n",
       "       [0, 1, 0],\n",
       "       [0, 1, 0],\n",
       "       [0, 1, 0],\n",
       "       [0, 1, 0],\n",
       "       [0, 1, 0],\n",
       "       [0, 1, 0],\n",
       "       [0, 1, 0],\n",
       "       [0, 1, 0],\n",
       "       [0, 1, 0],\n",
       "       [0, 1, 0],\n",
       "       [0, 1, 0],\n",
       "       [0, 1, 0],\n",
       "       [0, 1, 0],\n",
       "       [0, 1, 0],\n",
       "       [0, 0, 1],\n",
       "       [0, 0, 1],\n",
       "       [0, 0, 1],\n",
       "       [0, 0, 1],\n",
       "       [0, 0, 1],\n",
       "       [0, 0, 1],\n",
       "       [0, 0, 1],\n",
       "       [0, 0, 1],\n",
       "       [0, 0, 1],\n",
       "       [0, 0, 1],\n",
       "       [0, 0, 1],\n",
       "       [0, 0, 1],\n",
       "       [0, 0, 1],\n",
       "       [0, 0, 1],\n",
       "       [0, 0, 1],\n",
       "       [0, 0, 1],\n",
       "       [0, 0, 1],\n",
       "       [0, 0, 1],\n",
       "       [0, 0, 1],\n",
       "       [0, 0, 1],\n",
       "       [0, 0, 1],\n",
       "       [0, 0, 1],\n",
       "       [0, 0, 1],\n",
       "       [0, 0, 1],\n",
       "       [0, 0, 1],\n",
       "       [0, 0, 1],\n",
       "       [0, 0, 1],\n",
       "       [0, 0, 1],\n",
       "       [0, 0, 1],\n",
       "       [0, 0, 1],\n",
       "       [0, 0, 1],\n",
       "       [0, 0, 1],\n",
       "       [0, 0, 1],\n",
       "       [0, 0, 1],\n",
       "       [0, 0, 1],\n",
       "       [0, 0, 1],\n",
       "       [0, 0, 1],\n",
       "       [0, 0, 1],\n",
       "       [0, 0, 1],\n",
       "       [0, 0, 1],\n",
       "       [0, 0, 1],\n",
       "       [0, 0, 1],\n",
       "       [0, 0, 1],\n",
       "       [0, 0, 1],\n",
       "       [0, 0, 1],\n",
       "       [0, 0, 1],\n",
       "       [0, 0, 1],\n",
       "       [0, 0, 1],\n",
       "       [0, 0, 1],\n",
       "       [0, 0, 1]])"
      ]
     },
     "execution_count": 198,
     "metadata": {},
     "output_type": "execute_result"
    }
   ],
   "source": [
    "y_latent"
   ]
  },
  {
   "cell_type": "code",
   "execution_count": null,
   "metadata": {
    "collapsed": true
   },
   "outputs": [],
   "source": []
  },
  {
   "cell_type": "code",
   "execution_count": null,
   "metadata": {
    "collapsed": true
   },
   "outputs": [],
   "source": []
  },
  {
   "cell_type": "code",
   "execution_count": null,
   "metadata": {
    "collapsed": true
   },
   "outputs": [],
   "source": []
  }
 ],
 "metadata": {
  "kernelspec": {
   "display_name": "Python 3",
   "language": "python",
   "name": "python3"
  },
  "language_info": {
   "codemirror_mode": {
    "name": "ipython",
    "version": 3
   },
   "file_extension": ".py",
   "mimetype": "text/x-python",
   "name": "python",
   "nbconvert_exporter": "python",
   "pygments_lexer": "ipython3",
   "version": "3.6.3"
  }
 },
 "nbformat": 4,
 "nbformat_minor": 2
}
