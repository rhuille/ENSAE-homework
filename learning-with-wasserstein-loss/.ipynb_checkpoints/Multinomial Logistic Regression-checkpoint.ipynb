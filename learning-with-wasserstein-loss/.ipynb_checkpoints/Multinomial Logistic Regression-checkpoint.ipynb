{
 "cells": [
  {
   "cell_type": "code",
   "execution_count": 222,
   "metadata": {
    "collapsed": true
   },
   "outputs": [],
   "source": [
    "import numpy as np\n",
    "from math import pi\n",
    "import matplotlib.pyplot as plt\n",
    "from sklearn.metrics import confusion_matrix\n",
    "%matplotlib inline"
   ]
  },
  {
   "cell_type": "markdown",
   "metadata": {},
   "source": []
  },
  {
   "cell_type": "markdown",
   "metadata": {},
   "source": [
    "# Intro"
   ]
  },
  {
   "cell_type": "markdown",
   "metadata": {},
   "source": [
    "## Dataset"
   ]
  },
  {
   "cell_type": "code",
   "execution_count": 43,
   "metadata": {
    "scrolled": true
   },
   "outputs": [
    {
     "data": {
      "image/png": "[encoded data removed]",
      "text/plain": [
       "<matplotlib.figure.Figure at 0x7f5212c5aba8>"
      ]
     },
     "metadata": {},
     "output_type": "display_data"
    }
   ],
   "source": [
    "def softmax(z):\n",
    "    e = np.exp(z)\n",
    "    return e/e.sum()\n",
    "    \n",
    "x = np.array([[i,3] for i in np.arange(-10,10,0.1)])\n",
    "r  = np.array([softmax(k) for k in x])\n",
    "\n",
    "plt.figure(figsize=(10,5))\n",
    "plt.title('Softmax function')\n",
    "plt.plot(x[:,0], r[:, 0], x[:,0], r[:, 1])\n",
    "plt.show()  "
   ]
  },
  {
   "cell_type": "code",
   "execution_count": 169,
   "metadata": {},
   "outputs": [
    {
     "name": "stdout",
     "output_type": "stream",
     "text": [
      "[[  3.98651230e-01   6.01348770e-01]\n",
      " [  8.10482729e-01   1.89517271e-01]\n",
      " [  9.99998054e-01   1.94642282e-06]\n",
      " [  9.95178170e-01   4.82182998e-03]\n",
      " [  9.99700088e-01   2.99912480e-04]]\n",
      "[1 0 0 0 0 0 0 0 0 1 1 0 0 1 0 0 1 1 1 1 1 1 0 1 1 1 1 1 1 0 1 0 0 1 0 1 1\n",
      " 1 1 0 0 0 1 1 1 1 0 1 1 0 1 0 0 0 1 0 1 1 0 1 1 1 1 0 0 1 1 1 0 1 0 0 0 1\n",
      " 0 1 1 0 0 0 0 0 1 0 0 1 0 1 1 0 0 1 0 1 1 0 0 1 0 0]\n",
      "[49 51]\n",
      "[ 1.  1.  1.  1.  1.  1.  1.  1.  1.  1.  1.  1.  1.  1.  1.  1.  1.  1.\n",
      "  1.  1.  1.  1.  1.  1.  1.  1.  1.  1.  1.  1.  1.  1.  1.  1.  1.  1.\n",
      "  1.  1.  1.  1.  1.  1.  1.  1.  1.  1.  1.  1.  1.  1.  1.  1.  1.  1.\n",
      "  1.  1.  1.  1.  1.  1.  1.  1.  1.  1.  1.  1.  1.  1.  1.  1.  1.  1.\n",
      "  1.  1.  1.  1.  1.  1.  1.  1.  1.  1.  1.  1.  1.  1.  1.  1.  1.  1.\n",
      "  1.  1.  1.  1.  1.  1.  1.  1.  1.  1.]\n"
     ]
    }
   ],
   "source": [
    "def softmax_(z):\n",
    "    return np.apply_along_axis(softmax, 1, z)\n",
    "\n",
    "# param\n",
    "n = 100\n",
    "m = 2\n",
    "p = 5\n",
    "\n",
    "# dataset\n",
    "X = np.random.uniform(-1,1,size=(n,p))\n",
    "t = np.floor(np.random.uniform(-1,1,size=(p,m))*10)+1\n",
    "\n",
    "y_latent = softmax_(np.dot(X,t))\n",
    "print(y_latent[:5,:])\n",
    "\n",
    "y = y_latent.argmax(axis =1)\n",
    "print(y)\n",
    "print(np.bincount(y))\n",
    "print(y_latent.sum(axis=1))"
   ]
  },
  {
   "cell_type": "markdown",
   "metadata": {},
   "source": [
    "# Common gradient descent"
   ]
  },
  {
   "cell_type": "markdown",
   "metadata": {},
   "source": [
    "### Algo and computation"
   ]
  },
  {
   "cell_type": "code",
   "execution_count": 224,
   "metadata": {
    "collapsed": true
   },
   "outputs": [],
   "source": [
    "# Gradient descent\n",
    "\n",
    "#param\n",
    "eta = 0.01\n",
    "\n",
    "#init\n",
    "t_ = np.full((p,m), 1)\n",
    "t_\n",
    "\n",
    "norm_grad = []\n",
    "\n",
    "for l in range(1000):\n",
    "    d = softmax_(np.dot(X,t_)) - np.array([y==i for i in range(m)]).T\n",
    "    grad = np.dot(X.T, d)\n",
    "    t_ = t_ - eta*grad\n",
    "    norm_grad += [np.linalg.norm(grad)]"
   ]
  },
  {
   "cell_type": "code",
   "execution_count": null,
   "metadata": {
    "collapsed": true
   },
   "outputs": [],
   "source": [
    "plt.plot(norm_grad)"
   ]
  },
  {
   "cell_type": "markdown",
   "metadata": {},
   "source": [
    "### Analysis of convergence"
   ]
  },
  {
   "cell_type": "code",
   "execution_count": 188,
   "metadata": {},
   "outputs": [
    {
     "data": {
      "text/plain": [
       "array([[-1.72912596,  3.72912596],\n",
       "       [-1.42708148,  3.42708148],\n",
       "       [-5.22078532,  7.22078532],\n",
       "       [ 3.01388512, -1.01388512],\n",
       "       [ 5.08824975, -3.08824975]])"
      ]
     },
     "execution_count": 188,
     "metadata": {},
     "output_type": "execute_result"
    }
   ],
   "source": [
    "t_"
   ]
  },
  {
   "cell_type": "code",
   "execution_count": 200,
   "metadata": {},
   "outputs": [
    {
     "data": {
      "text/plain": [
       "array([[ -2.,   3.],\n",
       "       [  6.,  10.],\n",
       "       [ -6.,   5.],\n",
       "       [ -1.,  -5.],\n",
       "       [  3.,  -4.]])"
      ]
     },
     "execution_count": 200,
     "metadata": {},
     "output_type": "execute_result"
    }
   ],
   "source": [
    "t"
   ]
  },
  {
   "cell_type": "code",
   "execution_count": 199,
   "metadata": {},
   "outputs": [
    {
     "data": {
      "text/plain": [
       "array([[ -5.,   0.],\n",
       "       [ -4.,   0.],\n",
       "       [-11.,   0.],\n",
       "       [  4.,   0.],\n",
       "       [  7.,   0.]])"
      ]
     },
     "execution_count": 199,
     "metadata": {},
     "output_type": "execute_result"
    }
   ],
   "source": [
    "np.apply_along_axis(lambda x:x - t[:,1],0, t)"
   ]
  },
  {
   "cell_type": "code",
   "execution_count": 201,
   "metadata": {},
   "outputs": [
    {
     "data": {
      "text/plain": [
       "array([[ -5.45825191,   0.        ],\n",
       "       [ -4.85416297,   0.        ],\n",
       "       [-12.44157063,   0.        ],\n",
       "       [  4.02777024,   0.        ],\n",
       "       [  8.17649949,   0.        ]])"
      ]
     },
     "execution_count": 201,
     "metadata": {},
     "output_type": "execute_result"
    }
   ],
   "source": [
    "np.apply_along_axis(lambda x:x - t_[:,1],0, t_)"
   ]
  },
  {
   "cell_type": "code",
   "execution_count": 191,
   "metadata": {},
   "outputs": [
    {
     "data": {
      "text/plain": [
       "array([ 2.,  2.,  2.,  2.,  2.])"
      ]
     },
     "execution_count": 191,
     "metadata": {},
     "output_type": "execute_result"
    }
   ],
   "source": [
    "t_.sum(axis=1)"
   ]
  },
  {
   "cell_type": "code",
   "execution_count": 194,
   "metadata": {},
   "outputs": [
    {
     "data": {
      "text/plain": [
       "array([  1.,  16.,  -1.,  -6.,  -1.])"
      ]
     },
     "execution_count": 194,
     "metadata": {},
     "output_type": "execute_result"
    }
   ],
   "source": [
    "t.sum(axis=1)"
   ]
  },
  {
   "cell_type": "code",
   "execution_count": 192,
   "metadata": {
    "scrolled": true
   },
   "outputs": [
    {
     "data": {
      "text/plain": [
       "array([-0.4636813 , -0.41641306, -0.72302182, -2.97261008, -1.64761602])"
      ]
     },
     "execution_count": 192,
     "metadata": {},
     "output_type": "execute_result"
    }
   ],
   "source": [
    "t_[:,0]/t_[:,1]"
   ]
  },
  {
   "cell_type": "code",
   "execution_count": 193,
   "metadata": {
    "scrolled": true
   },
   "outputs": [
    {
     "data": {
      "text/plain": [
       "array([-0.66666667,  0.6       , -1.2       ,  0.2       , -0.75      ])"
      ]
     },
     "execution_count": 193,
     "metadata": {},
     "output_type": "execute_result"
    }
   ],
   "source": [
    "t[:,0]/t[:,1]"
   ]
  },
  {
   "cell_type": "markdown",
   "metadata": {
    "collapsed": true
   },
   "source": [
    "### Analysis of results"
   ]
  },
  {
   "cell_type": "code",
   "execution_count": 219,
   "metadata": {},
   "outputs": [
    {
     "data": {
      "image/png": "[encoded data removed]",
      "text/plain": [
       "<matplotlib.figure.Figure at 0x7f5212867cc0>"
      ]
     },
     "metadata": {},
     "output_type": "display_data"
    }
   ],
   "source": [
    "y_latent_pred = softmax_(np.dot(X,np.apply_along_axis(lambda x:x - t_[:,1],0, t_)))\n",
    "\n",
    "plt.plot(y_latent[:,0], y_latent_pred[:,0], '.')\n",
    "plt.show()"
   ]
  },
  {
   "cell_type": "code",
   "execution_count": 223,
   "metadata": {},
   "outputs": [
    {
     "data": {
      "text/plain": [
       "array([[49,  1],\n",
       "       [ 0, 50]])"
      ]
     },
     "execution_count": 223,
     "metadata": {},
     "output_type": "execute_result"
    }
   ],
   "source": [
    "y_pred = y_latent_pred.argmax(axis=1)\n",
    "confusion_matrix(y_pred,y)"
   ]
  },
  {
   "cell_type": "code",
   "execution_count": null,
   "metadata": {
    "collapsed": true
   },
   "outputs": [],
   "source": []
  },
  {
   "cell_type": "code",
   "execution_count": null,
   "metadata": {
    "collapsed": true
   },
   "outputs": [],
   "source": []
  },
  {
   "cell_type": "markdown",
   "metadata": {},
   "source": [
    "# SDG"
   ]
  },
  {
   "cell_type": "markdown",
   "metadata": {},
   "source": [
    "## Algo and computation"
   ]
  },
  {
   "cell_type": "code",
   "execution_count": 255,
   "metadata": {
    "collapsed": true
   },
   "outputs": [],
   "source": [
    "def batch_list_creator(s,n):\n",
    "    index = np.arange(n)\n",
    "    np.random.shuffle(index)\n",
    "    i_ = 0\n",
    "    batch_list =[]\n",
    "    for i in np.arange(s,n+s,s):\n",
    "        batch_list+=[index[i_:i]]\n",
    "        i_ = i\n",
    "    return batch_list"
   ]
  },
  {
   "cell_type": "code",
   "execution_count": 260,
   "metadata": {
    "collapsed": true
   },
   "outputs": [],
   "source": [
    "# Stochastic Gradient descent\n",
    "\n",
    "#param\n",
    "eta = 0.01\n",
    "s = 10 # size of bacth\n",
    "\n",
    "#init\n",
    "t_ = np.full((p,m), 1)\n",
    "t_\n",
    "\n",
    "norm_grad = []\n",
    "\n",
    "for l in range(10):\n",
    "    batch_list = batch_list_creator(s,n)\n",
    "    for batch in batch_list:\n",
    "        d = softmax_(np.dot(X[batch, :],t_)) - np.array([y[batch]==i for i in range(m)]).T\n",
    "        grad = np.dot(X.T[:,batch], d)\n",
    "        t_ = t_ - eta*grad\n",
    "        norm_grad += [np.linalg.norm(grad)]"
   ]
  },
  {
   "cell_type": "code",
   "execution_count": 267,
   "metadata": {},
   "outputs": [
    {
     "data": {
      "text/plain": [
       "array([94, 38,  3, 36, 52, 54, 47, 11, 71,  9])"
      ]
     },
     "execution_count": 267,
     "metadata": {},
     "output_type": "execute_result"
    }
   ],
   "source": [
    "batch"
   ]
  },
  {
   "cell_type": "markdown",
   "metadata": {},
   "source": [
    "### Analysis of convergence"
   ]
  },
  {
   "cell_type": "code",
   "execution_count": 261,
   "metadata": {
    "scrolled": true
   },
   "outputs": [
    {
     "data": {
      "text/plain": [
       "[<matplotlib.lines.Line2D at 0x7f5209305710>]"
      ]
     },
     "execution_count": 261,
     "metadata": {},
     "output_type": "execute_result"
    },
    {
     "data": {
      "image/png": "[encoded data removed]",
      "text/plain": [
       "<matplotlib.figure.Figure at 0x7f520929ed68>"
      ]
     },
     "metadata": {},
     "output_type": "display_data"
    }
   ],
   "source": [
    "plt.plot(norm_grad)"
   ]
  },
  {
   "cell_type": "markdown",
   "metadata": {
    "collapsed": true
   },
   "source": [
    "### Analysis of results"
   ]
  },
  {
   "cell_type": "code",
   "execution_count": null,
   "metadata": {
    "collapsed": true
   },
   "outputs": [],
   "source": []
  }
 ],
 "metadata": {
  "kernelspec": {
   "display_name": "Python 3",
   "language": "python",
   "name": "python3"
  },
  "language_info": {
   "codemirror_mode": {
    "name": "ipython",
    "version": 3
   },
   "file_extension": ".py",
   "mimetype": "text/x-python",
   "name": "python",
   "nbconvert_exporter": "python",
   "pygments_lexer": "ipython3",
   "version": "3.6.3"
  }
 },
 "nbformat": 4,
 "nbformat_minor": 2
}
