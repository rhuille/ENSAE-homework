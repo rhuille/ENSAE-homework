{
 "cells": [
  {
   "cell_type": "markdown",
   "metadata": {},
   "source": [
    "<img src = \"https://upload.wikimedia.org/wikipedia/commons/2/22/ENSAE_logo_developpe.jpg\" style=\"float:right;width:30%\"> </img>\n",
    "<p style=\"font-size:2em;\">Parallel MCMC </p>\n",
    "<p style=\"font-size:1.5em\">Eléments logiciels pour le traitement des données massives </p>\n",
    "http://www.xavierdupre.fr/app/ensae_teaching_cs/helpsphinx/projet_info_3A.html\n",
    "\n",
    "Raphaël Huille & Michael Sok <br>\n",
    "ENSAE ParisTech"
   ]
  },
  {
   "cell_type": "markdown",
   "metadata": {},
   "source": [
    "Nous avons choisi d'implémenter l'algorithme Independent Metropolis–Hastings (IMH) décrit dans l'article : \n",
    "[*Using parallel computation to improve Independent Metropolis–Hastings based estimation* (2011)](https://arxiv.org/pdf/1010.1595v3.pdf) en utilisant la fonction *Pool* du pkg *multiprocessing*"
   ]
  },
  {
   "cell_type": "code",
   "execution_count": 1,
   "metadata": {},
   "outputs": [],
   "source": [
    "import numpy as np\n",
    "import matplotlib.pyplot as plt\n",
    "from multiprocessing import Pool\n",
    "import numpy as np\n",
    "import matplotlib.pyplot as plt\n",
    "from time import time, sleep\n",
    "import random\n",
    "import pandas as pd\n",
    "import itertools\n",
    "import pickle\n",
    "from IMHclass import IMH\n",
    "from tqdm import tqdm"
   ]
  },
  {
   "cell_type": "markdown",
   "metadata": {},
   "source": [
    "On va simuler une loi normale centrée réduite. <bR>\n",
    "La loi candidate sera une cauchy standardisée."
   ]
  },
  {
   "cell_type": "code",
   "execution_count": 2,
   "metadata": {
    "collapsed": true
   },
   "outputs": [],
   "source": [
    "# Parameters\n",
    "def omega(x):  # densité de la loi normale\n",
    "    return((1+x**2)*np.exp(-(x)**2/2))\n",
    "\n",
    "def gen_candidate(N):\n",
    "    np.random.seed() # for seeding the generator\n",
    "    return np.random.standard_cauchy(size = N)"
   ]
  },
  {
   "cell_type": "code",
   "execution_count": 3,
   "metadata": {},
   "outputs": [],
   "source": [
    "IMH_computer  = IMH(omega, gen_candidate)"
   ]
  },
  {
   "cell_type": "code",
   "execution_count": 4,
   "metadata": {},
   "outputs": [
    {
     "name": "stdout",
     "output_type": "stream",
     "text": [
      "Estimation de la moyenne avec la methode simple :  0.00901053979064\n"
     ]
    }
   ],
   "source": [
    "IMH_computer.fit(x0 = 0, N = 4000, method='simple')\n",
    "print(\"Estimation de la moyenne avec la methode simple : \", IMH_computer.expectation)"
   ]
  },
  {
   "cell_type": "code",
   "execution_count": 5,
   "metadata": {
    "scrolled": true
   },
   "outputs": [
    {
     "name": "stdout",
     "output_type": "stream",
     "text": [
      "Estimation de la moyenne avec la methode parallel :  0.0227038526357\n"
     ]
    }
   ],
   "source": [
    "IMH_computer.fit(x0 = 0, N = 4000, method='parallel', B=10, njobs=1)\n",
    "print(\"Estimation de la moyenne avec la methode parallel : \", IMH_computer.expectation)"
   ]
  },
  {
   "cell_type": "markdown",
   "metadata": {},
   "source": [
    "Les estimations de la moyenne semblent correct ! <br>\n",
    "Evaluons maintenant les performances des deux méthodes selon 2 critères : \n",
    "- le temps d'execution\n",
    "- la variances de l'estimation"
   ]
  },
  {
   "cell_type": "markdown",
   "metadata": {},
   "source": [
    "**Temps d'execution :**"
   ]
  },
  {
   "cell_type": "code",
   "execution_count": 6,
   "metadata": {
    "scrolled": false
   },
   "outputs": [
    {
     "name": "stdout",
     "output_type": "stream",
     "text": [
      "43.1 ms ± 1.13 ms per loop (mean ± std. dev. of 3 runs, 10 loops each)\n"
     ]
    }
   ],
   "source": [
    "%timeit -n 10 -r 3 IMH_computer.fit(x0 = 0, N = 4000, method='simple')"
   ]
  },
  {
   "cell_type": "code",
   "execution_count": 7,
   "metadata": {},
   "outputs": [
    {
     "name": "stdout",
     "output_type": "stream",
     "text": [
      "259 ms ± 1.91 ms per loop (mean ± std. dev. of 3 runs, 3 loops each)\n"
     ]
    }
   ],
   "source": [
    "%timeit -n 3 -r 3 IMH_computer.fit(x0 = 0, N = 4000, method='parallel', B=10, njobs=4)"
   ]
  },
  {
   "cell_type": "markdown",
   "metadata": {},
   "source": [
    "**Variance :**"
   ]
  },
  {
   "cell_type": "code",
   "execution_count": 8,
   "metadata": {
    "scrolled": false
   },
   "outputs": [
    {
     "data": {
      "text/plain": [
       "0.044631090474715834"
      ]
     },
     "execution_count": 8,
     "metadata": {},
     "output_type": "execute_result"
    }
   ],
   "source": [
    "estimation_simple = []\n",
    "for i in range(1000):\n",
    "    IMH_computer.fit(x0 = 0, N = 40, method='simple')\n",
    "    estimation_simple += [IMH_computer.expectation]\n",
    "    \n",
    "np.var(estimation_simple)"
   ]
  },
  {
   "cell_type": "code",
   "execution_count": 9,
   "metadata": {
    "scrolled": false
   },
   "outputs": [
    {
     "data": {
      "text/plain": [
       "0.03774223142559413"
      ]
     },
     "execution_count": 9,
     "metadata": {},
     "output_type": "execute_result"
    }
   ],
   "source": [
    "estimation_parallel= []\n",
    "for i in range(10):\n",
    "    IMH_computer.fit(x0 = 0, N = 40, method='parallel', B=10, njobs=4)\n",
    "    estimation_parallel += [IMH_computer.expectation]\n",
    "\n",
    "np.var(estimation_parallel)"
   ]
  },
  {
   "cell_type": "markdown",
   "metadata": {},
   "source": [
    "À nombre *N* de candidats égaux, la méthode *parallel* donnera un estimateur de **variance plus faible** que l'estimateur obtenu avec la méthode *simple*. Néanmoins, à nombre *N* de candidats égaux, **la méthode *parallel* aura un temps d'execution un peu plus long que la méthode *simple* ** car elle execute plus de calcul. Cela se traduit les sommes des poids obtenus :"
   ]
  },
  {
   "cell_type": "code",
   "execution_count": 10,
   "metadata": {},
   "outputs": [
    {
     "data": {
      "text/plain": [
       "16000"
      ]
     },
     "execution_count": 10,
     "metadata": {},
     "output_type": "execute_result"
    }
   ],
   "source": [
    "IMH_computer.fit(x0 = 0, N = 4000, method='parallel', B=10, njobs=4).weights.sum()"
   ]
  },
  {
   "cell_type": "code",
   "execution_count": 11,
   "metadata": {},
   "outputs": [
    {
     "data": {
      "text/plain": [
       "4000"
      ]
     },
     "execution_count": 11,
     "metadata": {},
     "output_type": "execute_result"
    }
   ],
   "source": [
    "IMH_computer.fit(x0 = 0, N = 4000, method='simple').weights.sum()"
   ]
  },
  {
   "cell_type": "markdown",
   "metadata": {},
   "source": [
    "La somme est plus grande pour la méthode *parallel* : plus de chaines de Markov ont été généré avec les candidats qu'avec la méthode *parallel*. D'où la variance plus petite mais le temps d'excution plus long !"
   ]
  },
  {
   "cell_type": "markdown",
   "metadata": {},
   "source": [
    "Ces deux critères - variance et temps - sont liées par le paramètre *N* : en effet, plus *N* est grand, plus la variance sera faible mais plus le temps d'exécution sera long. On pourrait donc utiliser la méthode parallèle pour avoir un estimateur plus rapide, mais à variance égale qu'avec la méthode simple... Reste à savoir si le gain de performance variance de la methode *parrallel* compense la perte de performance en temps ... Cela dépend grandement de l'ordinateur utilisé ! \n",
    "\n",
    "Pour se faire, nous avons regardé l'évolution des temps d'exécution et des variances des estimateurs de Monte Carlo avec N grandissant de manière exponentielle sur un échantillon de 60 estimateurs (obtenables à travers le fichier main.py disponible dans le même dossier que ce notebook)."
   ]
  },
  {
   "cell_type": "code",
   "execution_count": 12,
   "metadata": {
    "collapsed": true
   },
   "outputs": [],
   "source": [
    "N_range = [4*1e3,8*1e3,4*1e4,8*1e4,4*1e5,8*1e5,4*1e6]\n",
    "log_range = list(map(np.log10, N_range))\n",
    "Directory = \"Parallel/Plots/\"\n",
    "with open(Directory + \"y_time.dat\", \"rb\") as f:\n",
    "    y_time = pickle.load(f)\n",
    "with open(Directory + \"y_var.dat\", \"rb\") as f:\n",
    "    y_var = pickle.load(f)"
   ]
  },
  {
   "cell_type": "code",
   "execution_count": 13,
   "metadata": {},
   "outputs": [
    {
     "data": {
      "image/png": "[encoded data removed]",
      "text/plain": [
       "<matplotlib.figure.Figure at 0x7f1929a0f198>"
      ]
     },
     "metadata": {},
     "output_type": "display_data"
    }
   ],
   "source": [
    "plt.figure(figsize=(10,5))\n",
    "plt.plot(log_range, y_time, lw = 1, color = \"red\", label = \"Ratio of parallelized times on simple times\")\n",
    "plt.plot(log_range, [1]*len(y_time), lw = 1, color = \"black\", label = \"Same time for same calculus : ratio = 1\")\n",
    "plt.ylabel('Ratio')\n",
    "plt.xlabel('Log(N) in base 10')\n",
    "plt.title(\"Ratio of parallelized times on simple times\")\n",
    "plt.legend()\n",
    "plt.show()"
   ]
  },
  {
   "cell_type": "code",
   "execution_count": 14,
   "metadata": {},
   "outputs": [
    {
     "data": {
      "image/png": "[encoded data removed]",
      "text/plain": [
       "<matplotlib.figure.Figure at 0x7f19299f6860>"
      ]
     },
     "metadata": {},
     "output_type": "display_data"
    }
   ],
   "source": [
    "plt.figure(figsize=(10,5))\n",
    "plt.plot(log_range, y_var, lw = 1, color = \"red\", label = \"Ratio of parallelized variances on simple variances\")\n",
    "plt.plot(log_range, [1]*len(y_var), lw = 1, color = \"black\", label = \"Same variance for same calculus : ratio = 1\")\n",
    "plt.ylabel('Ratio')\n",
    "plt.xlabel('Log(N) in base 10')\n",
    "plt.title(\"Ratio of parallelized variances on simple variances\")\n",
    "plt.legend()\n",
    "plt.show()"
   ]
  },
  {
   "cell_type": "markdown",
   "metadata": {},
   "source": [
    "Nous pouvons remarquer ici qu'il y a un intérêt à appliquer cette méthode pour avoir une diminution de la variance lorsque les estimateurs sont calculés avec des N très grands: $ 6,5 \\approx \\log_{10}\\left(4*1e6\\right) $.\n",
    "\n",
    "En effet, pour la dernière valeur de N = $4*1e6$, nous avons le ratio du temps qui vaut"
   ]
  },
  {
   "cell_type": "code",
   "execution_count": 15,
   "metadata": {},
   "outputs": [
    {
     "name": "stdout",
     "output_type": "stream",
     "text": [
      "1.31821029471\n"
     ]
    }
   ],
   "source": [
    "print(y_time[len(y_time)-1])"
   ]
  },
  {
   "cell_type": "markdown",
   "metadata": {},
   "source": [
    "Et un ratio de la variance valant :"
   ]
  },
  {
   "cell_type": "code",
   "execution_count": 16,
   "metadata": {},
   "outputs": [
    {
     "name": "stdout",
     "output_type": "stream",
     "text": [
      "0.36693149104\n"
     ]
    }
   ],
   "source": [
    "print(y_var[len(y_var)-1])"
   ]
  },
  {
   "cell_type": "markdown",
   "metadata": {},
   "source": [
    "Malheureusement, nous n'avons pu vérifier à partir de quel moment la méthode $parallel$ prenait exactement le même temps que la méthode $simple$ à cause des capacités limitées de nos machines.\n",
    "\n",
    "Cependant, nous pouvons nous douter que comme le ratio de la variance semble constant (entre 0,45 et 0,3) tandis que le ratio temporel ne fait que diminuer, avec de meilleures machines les résultats n'en seraient que meilleurs !"
   ]
  }
 ],
 "metadata": {
  "kernelspec": {
   "display_name": "Python 3",
   "language": "python",
   "name": "python3"
  },
  "language_info": {
   "codemirror_mode": {
    "name": "ipython",
    "version": 3
   },
   "file_extension": ".py",
   "mimetype": "text/x-python",
   "name": "python",
   "nbconvert_exporter": "python",
   "pygments_lexer": "ipython3",
   "version": "3.6.3"
  }
 },
 "nbformat": 4,
 "nbformat_minor": 2
}
